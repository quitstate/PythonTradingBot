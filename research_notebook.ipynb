{
 "cells": [
  {
   "cell_type": "code",
   "execution_count": 2,
   "id": "c8e2f541",
   "metadata": {},
   "outputs": [
    {
     "data": {
      "text/plain": [
       "True"
      ]
     },
     "execution_count": 2,
     "metadata": {},
     "output_type": "execute_result"
    }
   ],
   "source": [
    "import MetaTrader5 as mt5\n",
    "import pandas as pd\n",
    "import os\n",
    "from dotenv import load_dotenv, find_dotenv\n",
    "\n",
    "load_dotenv(find_dotenv())"
   ]
  },
  {
   "cell_type": "code",
   "execution_count": 3,
   "id": "4522a58b",
   "metadata": {},
   "outputs": [
    {
     "data": {
      "text/plain": [
       "True"
      ]
     },
     "execution_count": 3,
     "metadata": {},
     "output_type": "execute_result"
    }
   ],
   "source": [
    "mt5.initialize(\n",
    "            path=os.getenv(\"MT5_PATH\"),\n",
    "            login=int(os.getenv(\"MT5_LOGIN\")),\n",
    "            password=os.getenv(\"MT5_PASSWORD\"),\n",
    "            server=os.getenv(\"MT5_SERVER\"),\n",
    "            timeout=int(os.getenv(\"MT5_TIMEOUT\")),\n",
    "            portable=eval(os.getenv(\"MT5_PORTABLE\")),\n",
    "        )"
   ]
  },
  {
   "cell_type": "code",
   "execution_count": 9,
   "id": "a632e5de",
   "metadata": {},
   "outputs": [
    {
     "data": {
      "text/html": [
       "<div>\n",
       "<style scoped>\n",
       "    .dataframe tbody tr th:only-of-type {\n",
       "        vertical-align: middle;\n",
       "    }\n",
       "\n",
       "    .dataframe tbody tr th {\n",
       "        vertical-align: top;\n",
       "    }\n",
       "\n",
       "    .dataframe thead th {\n",
       "        text-align: right;\n",
       "    }\n",
       "</style>\n",
       "<table border=\"1\" class=\"dataframe\">\n",
       "  <thead>\n",
       "    <tr style=\"text-align: right;\">\n",
       "      <th></th>\n",
       "      <th>open</th>\n",
       "      <th>high</th>\n",
       "      <th>low</th>\n",
       "      <th>close</th>\n",
       "      <th>tickvol</th>\n",
       "      <th>vol</th>\n",
       "      <th>spread</th>\n",
       "    </tr>\n",
       "    <tr>\n",
       "      <th>time</th>\n",
       "      <th></th>\n",
       "      <th></th>\n",
       "      <th></th>\n",
       "      <th></th>\n",
       "      <th></th>\n",
       "      <th></th>\n",
       "      <th></th>\n",
       "    </tr>\n",
       "  </thead>\n",
       "  <tbody>\n",
       "    <tr>\n",
       "      <th>2025-04-03 11:00:00</th>\n",
       "      <td>1.09708</td>\n",
       "      <td>1.10206</td>\n",
       "      <td>1.09706</td>\n",
       "      <td>1.10093</td>\n",
       "      <td>5266</td>\n",
       "      <td>0</td>\n",
       "      <td>0</td>\n",
       "    </tr>\n",
       "    <tr>\n",
       "      <th>2025-04-03 12:00:00</th>\n",
       "      <td>1.10093</td>\n",
       "      <td>1.10474</td>\n",
       "      <td>1.10039</td>\n",
       "      <td>1.10305</td>\n",
       "      <td>5551</td>\n",
       "      <td>0</td>\n",
       "      <td>0</td>\n",
       "    </tr>\n",
       "    <tr>\n",
       "      <th>2025-04-03 13:00:00</th>\n",
       "      <td>1.10305</td>\n",
       "      <td>1.11459</td>\n",
       "      <td>1.10279</td>\n",
       "      <td>1.10519</td>\n",
       "      <td>8680</td>\n",
       "      <td>0</td>\n",
       "      <td>0</td>\n",
       "    </tr>\n",
       "    <tr>\n",
       "      <th>2025-04-03 14:00:00</th>\n",
       "      <td>1.10526</td>\n",
       "      <td>1.11010</td>\n",
       "      <td>1.10388</td>\n",
       "      <td>1.10875</td>\n",
       "      <td>6422</td>\n",
       "      <td>0</td>\n",
       "      <td>0</td>\n",
       "    </tr>\n",
       "    <tr>\n",
       "      <th>2025-04-03 15:00:00</th>\n",
       "      <td>1.10875</td>\n",
       "      <td>1.11096</td>\n",
       "      <td>1.10730</td>\n",
       "      <td>1.10817</td>\n",
       "      <td>7340</td>\n",
       "      <td>0</td>\n",
       "      <td>0</td>\n",
       "    </tr>\n",
       "  </tbody>\n",
       "</table>\n",
       "</div>"
      ],
      "text/plain": [
       "                        open     high      low    close  tickvol  vol  spread\n",
       "time                                                                         \n",
       "2025-04-03 11:00:00  1.09708  1.10206  1.09706  1.10093     5266    0       0\n",
       "2025-04-03 12:00:00  1.10093  1.10474  1.10039  1.10305     5551    0       0\n",
       "2025-04-03 13:00:00  1.10305  1.11459  1.10279  1.10519     8680    0       0\n",
       "2025-04-03 14:00:00  1.10526  1.11010  1.10388  1.10875     6422    0       0\n",
       "2025-04-03 15:00:00  1.10875  1.11096  1.10730  1.10817     7340    0       0"
      ]
     },
     "execution_count": 9,
     "metadata": {},
     "output_type": "execute_result"
    }
   ],
   "source": [
    "bars = pd.DataFrame(mt5.copy_rates_from_pos(\n",
    "    \"EURUSD\",\n",
    "    mt5.TIMEFRAME_H1,\n",
    "    1,\n",
    "    50,\n",
    "))\n",
    "\n",
    "bars['time'] = pd.to_datetime(bars['time'], unit='s')\n",
    "bars.set_index('time', inplace=True)\n",
    "bars.rename(columns={\n",
    "    'tick_volume': 'tickvol',\n",
    "    'real_volume': 'vol'\n",
    "}, inplace=True)\n",
    "bars = bars[['open', 'high', 'low', 'close', 'tickvol', 'vol', 'spread']]\n",
    "bars.head()"
   ]
  },
  {
   "cell_type": "code",
   "execution_count": 10,
   "id": "988cee17",
   "metadata": {},
   "outputs": [
    {
     "data": {
      "text/plain": [
       "pandas.core.series.Series"
      ]
     },
     "execution_count": 10,
     "metadata": {},
     "output_type": "execute_result"
    }
   ],
   "source": [
    "type(bars.iloc[-1])"
   ]
  },
  {
   "cell_type": "code",
   "execution_count": 13,
   "id": "a28c485a",
   "metadata": {},
   "outputs": [
    {
     "data": {
      "text/plain": [
       "{'time': 1744034613,\n",
       " 'bid': 1.0961,\n",
       " 'ask': 1.09612,\n",
       " 'last': 0.0,\n",
       " 'volume': 0,\n",
       " 'time_msc': 1744034613850,\n",
       " 'flags': 4,\n",
       " 'volume_real': 0.0}"
      ]
     },
     "execution_count": 13,
     "metadata": {},
     "output_type": "execute_result"
    }
   ],
   "source": [
    "tick = mt5.symbol_info_tick(\"EURUSD\")._asdict()\n",
    "tick"
   ]
  },
  {
   "cell_type": "code",
   "execution_count": 21,
   "id": "ede0b548",
   "metadata": {},
   "outputs": [],
   "source": [
    "def get_latest_tick(symbol: str) -> dict:\n",
    "    \"\"\"Get the latest tick for a given symbol.\n",
    "    Args:\n",
    "        symbol (str): The symbol to fetch data for.\n",
    "    Returns:\n",
    "        dict: The latest tick data.\n",
    "    Raises:\n",
    "        ValueError: If the symbol is invalid.\n",
    "        RuntimeError: If there is an error fetching data from MT5.\n",
    "    \"\"\"\n",
    "    try:\n",
    "        tick = mt5.symbol_info_tick(symbol)\n",
    "        if tick is None:\n",
    "            raise ValueError(f\"No tick data received for symbol: {symbol}.\")\n",
    "\n",
    "    except Exception as e:\n",
    "        raise RuntimeError(\n",
    "            f\"Error fetching tick data for symbol: {symbol}. \"\n",
    "            f\"MT5 Error: {mt5.last_error()} \"\n",
    "            f\"Exception: {str(e)}\"\n",
    "        )\n",
    "\n",
    "    else:\n",
    "        return tick._asdict()  # Convert the tick object to a dictionary"
   ]
  },
  {
   "cell_type": "code",
   "execution_count": 22,
   "id": "149df4ca",
   "metadata": {},
   "outputs": [
    {
     "data": {
      "text/plain": [
       "{'time': 1744034892,\n",
       " 'bid': 1.09645,\n",
       " 'ask': 1.09645,\n",
       " 'last': 0.0,\n",
       " 'volume': 0,\n",
       " 'time_msc': 1744034892490,\n",
       " 'flags': 4,\n",
       " 'volume_real': 0.0}"
      ]
     },
     "execution_count": 22,
     "metadata": {},
     "output_type": "execute_result"
    }
   ],
   "source": [
    "get_latest_tick(\"EURUSD\")"
   ]
  }
 ],
 "metadata": {
  "kernelspec": {
   "display_name": "TradingFramework",
   "language": "python",
   "name": "python3"
  },
  "language_info": {
   "codemirror_mode": {
    "name": "ipython",
    "version": 3
   },
   "file_extension": ".py",
   "mimetype": "text/x-python",
   "name": "python",
   "nbconvert_exporter": "python",
   "pygments_lexer": "ipython3",
   "version": "3.11.11"
  }
 },
 "nbformat": 4,
 "nbformat_minor": 5
}
