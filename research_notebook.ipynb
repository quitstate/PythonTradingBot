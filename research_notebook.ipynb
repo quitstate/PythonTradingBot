{
 "cells": [
  {
   "cell_type": "code",
   "execution_count": 5,
   "id": "c8e2f541",
   "metadata": {},
   "outputs": [
    {
     "data": {
      "text/plain": [
       "True"
      ]
     },
     "execution_count": 5,
     "metadata": {},
     "output_type": "execute_result"
    }
   ],
   "source": [
    "import MetaTrader5 as mt5\n",
    "import pandas as pd\n",
    "import numpy as np\n",
    "import os\n",
    "from dotenv import load_dotenv, find_dotenv\n",
    "\n",
    "load_dotenv(find_dotenv())"
   ]
  },
  {
   "cell_type": "code",
   "execution_count": 6,
   "id": "4522a58b",
   "metadata": {},
   "outputs": [
    {
     "data": {
      "text/plain": [
       "True"
      ]
     },
     "execution_count": 6,
     "metadata": {},
     "output_type": "execute_result"
    }
   ],
   "source": [
    "mt5.initialize(\n",
    "            path=os.getenv(\"MT5_PATH\"),\n",
    "            login=int(os.getenv(\"MT5_LOGIN\")),\n",
    "            password=os.getenv(\"MT5_PASSWORD\"),\n",
    "            server=os.getenv(\"MT5_SERVER\"),\n",
    "            timeout=int(os.getenv(\"MT5_TIMEOUT\")),\n",
    "            portable=eval(os.getenv(\"MT5_PORTABLE\")),\n",
    "        )"
   ]
  },
  {
   "cell_type": "code",
   "execution_count": 7,
   "id": "a632e5de",
   "metadata": {},
   "outputs": [
    {
     "data": {
      "text/html": [
       "<div>\n",
       "<style scoped>\n",
       "    .dataframe tbody tr th:only-of-type {\n",
       "        vertical-align: middle;\n",
       "    }\n",
       "\n",
       "    .dataframe tbody tr th {\n",
       "        vertical-align: top;\n",
       "    }\n",
       "\n",
       "    .dataframe thead th {\n",
       "        text-align: right;\n",
       "    }\n",
       "</style>\n",
       "<table border=\"1\" class=\"dataframe\">\n",
       "  <thead>\n",
       "    <tr style=\"text-align: right;\">\n",
       "      <th></th>\n",
       "      <th>open</th>\n",
       "      <th>high</th>\n",
       "      <th>low</th>\n",
       "      <th>close</th>\n",
       "      <th>tickvol</th>\n",
       "      <th>vol</th>\n",
       "      <th>spread</th>\n",
       "    </tr>\n",
       "    <tr>\n",
       "      <th>time</th>\n",
       "      <th></th>\n",
       "      <th></th>\n",
       "      <th></th>\n",
       "      <th></th>\n",
       "      <th></th>\n",
       "      <th></th>\n",
       "      <th></th>\n",
       "    </tr>\n",
       "  </thead>\n",
       "  <tbody>\n",
       "    <tr>\n",
       "      <th>2025-05-19 17:00:00</th>\n",
       "      <td>1.12515</td>\n",
       "      <td>1.12578</td>\n",
       "      <td>1.12417</td>\n",
       "      <td>1.12538</td>\n",
       "      <td>4429</td>\n",
       "      <td>0</td>\n",
       "      <td>0</td>\n",
       "    </tr>\n",
       "    <tr>\n",
       "      <th>2025-05-19 18:00:00</th>\n",
       "      <td>1.12538</td>\n",
       "      <td>1.12599</td>\n",
       "      <td>1.12335</td>\n",
       "      <td>1.12363</td>\n",
       "      <td>3796</td>\n",
       "      <td>0</td>\n",
       "      <td>0</td>\n",
       "    </tr>\n",
       "    <tr>\n",
       "      <th>2025-05-19 19:00:00</th>\n",
       "      <td>1.12363</td>\n",
       "      <td>1.12397</td>\n",
       "      <td>1.12295</td>\n",
       "      <td>1.12353</td>\n",
       "      <td>2635</td>\n",
       "      <td>0</td>\n",
       "      <td>0</td>\n",
       "    </tr>\n",
       "    <tr>\n",
       "      <th>2025-05-19 20:00:00</th>\n",
       "      <td>1.12353</td>\n",
       "      <td>1.12388</td>\n",
       "      <td>1.12243</td>\n",
       "      <td>1.12303</td>\n",
       "      <td>2194</td>\n",
       "      <td>0</td>\n",
       "      <td>0</td>\n",
       "    </tr>\n",
       "    <tr>\n",
       "      <th>2025-05-19 21:00:00</th>\n",
       "      <td>1.12303</td>\n",
       "      <td>1.12370</td>\n",
       "      <td>1.12247</td>\n",
       "      <td>1.12351</td>\n",
       "      <td>1761</td>\n",
       "      <td>0</td>\n",
       "      <td>0</td>\n",
       "    </tr>\n",
       "  </tbody>\n",
       "</table>\n",
       "</div>"
      ],
      "text/plain": [
       "                        open     high      low    close  tickvol  vol  spread\n",
       "time                                                                         \n",
       "2025-05-19 17:00:00  1.12515  1.12578  1.12417  1.12538     4429    0       0\n",
       "2025-05-19 18:00:00  1.12538  1.12599  1.12335  1.12363     3796    0       0\n",
       "2025-05-19 19:00:00  1.12363  1.12397  1.12295  1.12353     2635    0       0\n",
       "2025-05-19 20:00:00  1.12353  1.12388  1.12243  1.12303     2194    0       0\n",
       "2025-05-19 21:00:00  1.12303  1.12370  1.12247  1.12351     1761    0       0"
      ]
     },
     "execution_count": 7,
     "metadata": {},
     "output_type": "execute_result"
    }
   ],
   "source": [
    "bars = pd.DataFrame(mt5.copy_rates_from_pos(\n",
    "    \"EURUSD\",\n",
    "    mt5.TIMEFRAME_H1,\n",
    "    1,\n",
    "    50,\n",
    "))\n",
    "\n",
    "bars['time'] = pd.to_datetime(bars['time'], unit='s')\n",
    "bars.set_index('time', inplace=True)\n",
    "bars.rename(columns={\n",
    "    'tick_volume': 'tickvol',\n",
    "    'real_volume': 'vol'\n",
    "}, inplace=True)\n",
    "bars = bars[['open', 'high', 'low', 'close', 'tickvol', 'vol', 'spread']]\n",
    "bars.head()"
   ]
  },
  {
   "cell_type": "code",
   "execution_count": null,
   "id": "229a2c3c",
   "metadata": {},
   "outputs": [],
   "source": [
    "def comput_rsi(self, prices: pd.Series) -> float:\n",
    "\n",
    "    period = 14\n",
    "    \n",
    "    deltas = np.diff(prices)\n",
    "    gains = np.where(deltas > 0, deltas, 0)\n",
    "    losses = np.where(deltas < 0, -deltas, 0)\n",
    "\n",
    "    average_gain = np.mean(gains[-period:])\n",
    "    average_loss = np.mean(losses[-period:])"
   ]
  },
  {
   "cell_type": "code",
   "execution_count": 8,
   "id": "b261381a",
   "metadata": {},
   "outputs": [
    {
     "data": {
      "text/plain": [
       "array([-1.75e-03, -1.00e-04, -5.00e-04,  4.80e-04,  5.10e-04, -2.00e-05,\n",
       "        2.00e-04, -6.70e-04, -2.90e-04, -4.40e-04,  1.04e-03, -6.10e-04,\n",
       "        1.28e-03, -2.70e-04,  1.23e-03,  3.00e-04,  1.87e-03, -1.79e-03,\n",
       "       -3.10e-04, -1.08e-03,  1.30e-04, -1.15e-03,  1.15e-03,  2.27e-03,\n",
       "       -1.54e-03,  3.60e-04,  1.72e-03, -1.50e-04,  8.00e-04,  3.90e-04,\n",
       "       -2.70e-04, -7.00e-05,  7.40e-04,  7.20e-04,  2.90e-04,  2.35e-03,\n",
       "        1.22e-03, -5.10e-04,  2.90e-04,  9.00e-05, -9.50e-04, -8.00e-05,\n",
       "        1.23e-03,  4.00e-04, -1.54e-03,  1.11e-03,  2.30e-04,  4.00e-04,\n",
       "        1.80e-04])"
      ]
     },
     "execution_count": 8,
     "metadata": {},
     "output_type": "execute_result"
    }
   ],
   "source": [
    "prices = bars['close']\n",
    "np.diff(prices)"
   ]
  },
  {
   "cell_type": "code",
   "execution_count": 27,
   "id": "988cee17",
   "metadata": {},
   "outputs": [
    {
     "data": {
      "text/plain": [
       "pandas.core.series.Series"
      ]
     },
     "execution_count": 27,
     "metadata": {},
     "output_type": "execute_result"
    }
   ],
   "source": [
    "type(bars.iloc[-1])"
   ]
  },
  {
   "cell_type": "code",
   "execution_count": 28,
   "id": "a28c485a",
   "metadata": {},
   "outputs": [
    {
     "data": {
      "text/plain": [
       "{'time': 1745605393,\n",
       " 'bid': 1.13628,\n",
       " 'ask': 1.1363,\n",
       " 'last': 0.0,\n",
       " 'volume': 0,\n",
       " 'time_msc': 1745605393217,\n",
       " 'flags': 4,\n",
       " 'volume_real': 0.0}"
      ]
     },
     "execution_count": 28,
     "metadata": {},
     "output_type": "execute_result"
    }
   ],
   "source": [
    "tick = mt5.symbol_info_tick(\"EURUSD\")._asdict()\n",
    "tick"
   ]
  },
  {
   "cell_type": "code",
   "execution_count": 29,
   "id": "ede0b548",
   "metadata": {},
   "outputs": [],
   "source": [
    "def get_latest_tick(symbol: str) -> dict:\n",
    "    \"\"\"Get the latest tick for a given symbol.\n",
    "    Args:\n",
    "        symbol (str): The symbol to fetch data for.\n",
    "    Returns:\n",
    "        dict: The latest tick data.\n",
    "    Raises:\n",
    "        ValueError: If the symbol is invalid.\n",
    "        RuntimeError: If there is an error fetching data from MT5.\n",
    "    \"\"\"\n",
    "    try:\n",
    "        tick = mt5.symbol_info_tick(symbol)\n",
    "        if tick is None:\n",
    "            raise ValueError(f\"No tick data received for symbol: {symbol}.\")\n",
    "\n",
    "    except Exception as e:\n",
    "        raise RuntimeError(\n",
    "            f\"Error fetching tick data for symbol: {symbol}. \"\n",
    "            f\"MT5 Error: {mt5.last_error()} \"\n",
    "            f\"Exception: {str(e)}\"\n",
    "        )\n",
    "\n",
    "    else:\n",
    "        return tick._asdict()  # Convert the tick object to a dictionary"
   ]
  },
  {
   "cell_type": "code",
   "execution_count": 30,
   "id": "149df4ca",
   "metadata": {},
   "outputs": [
    {
     "data": {
      "text/plain": [
       "{'time': 1745605393,\n",
       " 'bid': 1.13628,\n",
       " 'ask': 1.1363,\n",
       " 'last': 0.0,\n",
       " 'volume': 0,\n",
       " 'time_msc': 1745605393217,\n",
       " 'flags': 4,\n",
       " 'volume_real': 0.0}"
      ]
     },
     "execution_count": 30,
     "metadata": {},
     "output_type": "execute_result"
    }
   ],
   "source": [
    "get_latest_tick(\"EURUSD\")"
   ]
  },
  {
   "cell_type": "code",
   "execution_count": 31,
   "id": "c08ac1e7",
   "metadata": {},
   "outputs": [
    {
     "data": {
      "text/plain": [
       "0.01"
      ]
     },
     "execution_count": 31,
     "metadata": {},
     "output_type": "execute_result"
    }
   ],
   "source": [
    "mt5.symbol_info(\"EURUSD\").volume_min"
   ]
  },
  {
   "cell_type": "code",
   "execution_count": 32,
   "id": "36245d0d",
   "metadata": {},
   "outputs": [
    {
     "data": {
      "text/plain": [
       "{'custom': False,\n",
       " 'chart_mode': 0,\n",
       " 'select': True,\n",
       " 'visible': True,\n",
       " 'session_deals': 0,\n",
       " 'session_buy_orders': 0,\n",
       " 'session_sell_orders': 0,\n",
       " 'volume': 0,\n",
       " 'volumehigh': 0,\n",
       " 'volumelow': 0,\n",
       " 'time': 1745605393,\n",
       " 'digits': 5,\n",
       " 'spread': 2,\n",
       " 'spread_float': True,\n",
       " 'ticks_bookdepth': 10,\n",
       " 'trade_calc_mode': 0,\n",
       " 'trade_mode': 4,\n",
       " 'start_time': 0,\n",
       " 'expiration_time': 0,\n",
       " 'trade_stops_level': 0,\n",
       " 'trade_freeze_level': 0,\n",
       " 'trade_exemode': 2,\n",
       " 'swap_mode': 1,\n",
       " 'swap_rollover3days': 3,\n",
       " 'margin_hedged_use_leg': False,\n",
       " 'expiration_mode': 15,\n",
       " 'filling_mode': 2,\n",
       " 'order_mode': 127,\n",
       " 'order_gtc_mode': 0,\n",
       " 'option_mode': 0,\n",
       " 'option_right': 0,\n",
       " 'bid': 1.13628,\n",
       " 'bidhigh': 1.13914,\n",
       " 'bidlow': 1.1316,\n",
       " 'ask': 1.1363,\n",
       " 'askhigh': 1.13975,\n",
       " 'asklow': 1.1316,\n",
       " 'last': 0.0,\n",
       " 'lasthigh': 0.0,\n",
       " 'lastlow': 0.0,\n",
       " 'volume_real': 0.0,\n",
       " 'volumehigh_real': 0.0,\n",
       " 'volumelow_real': 0.0,\n",
       " 'option_strike': 0.0,\n",
       " 'point': 1e-05,\n",
       " 'trade_tick_value': 1.0,\n",
       " 'trade_tick_value_profit': 1.0,\n",
       " 'trade_tick_value_loss': 1.0,\n",
       " 'trade_tick_size': 1e-05,\n",
       " 'trade_contract_size': 100000.0,\n",
       " 'trade_accrued_interest': 0.0,\n",
       " 'trade_face_value': 0.0,\n",
       " 'trade_liquidity_rate': 0.0,\n",
       " 'volume_min': 0.01,\n",
       " 'volume_max': 200.0,\n",
       " 'volume_step': 0.01,\n",
       " 'volume_limit': 0.0,\n",
       " 'swap_long': -8.569,\n",
       " 'swap_short': 4.081,\n",
       " 'margin_initial': 100000.0,\n",
       " 'margin_maintenance': 0.0,\n",
       " 'session_volume': 0.0,\n",
       " 'session_turnover': 0.0,\n",
       " 'session_interest': 0.0,\n",
       " 'session_buy_orders_volume': 0.0,\n",
       " 'session_sell_orders_volume': 0.0,\n",
       " 'session_open': 1.13852,\n",
       " 'session_close': 1.13888,\n",
       " 'session_aw': 0.0,\n",
       " 'session_price_settlement': 0.0,\n",
       " 'session_price_limit_min': 0.0,\n",
       " 'session_price_limit_max': 0.0,\n",
       " 'margin_hedged': 0.0,\n",
       " 'price_change': -0.2283,\n",
       " 'price_volatility': 0.0,\n",
       " 'price_theoretical': 0.0,\n",
       " 'price_greeks_delta': 0.0,\n",
       " 'price_greeks_theta': 0.0,\n",
       " 'price_greeks_gamma': 0.0,\n",
       " 'price_greeks_vega': 0.0,\n",
       " 'price_greeks_rho': 0.0,\n",
       " 'price_greeks_omega': 0.0,\n",
       " 'price_sensitivity': 0.0,\n",
       " 'basis': '',\n",
       " 'category': '',\n",
       " 'currency_base': 'EUR',\n",
       " 'currency_profit': 'USD',\n",
       " 'currency_margin': 'EUR',\n",
       " 'bank': '',\n",
       " 'description': 'Euro vs US Dollar',\n",
       " 'exchange': '',\n",
       " 'formula': '',\n",
       " 'isin': '',\n",
       " 'name': 'EURUSD',\n",
       " 'page': '',\n",
       " 'path': 'Forex\\\\Majors\\\\EURUSD'}"
      ]
     },
     "execution_count": 32,
     "metadata": {},
     "output_type": "execute_result"
    }
   ],
   "source": [
    "mt5.symbol_info(\"EURUSD\")._asdict()"
   ]
  },
  {
   "cell_type": "code",
   "execution_count": 33,
   "id": "d0c52f87",
   "metadata": {},
   "outputs": [
    {
     "data": {
      "text/plain": [
       "{'login': 52247953,\n",
       " 'trade_mode': 0,\n",
       " 'leverage': 50,\n",
       " 'limit_orders': 200,\n",
       " 'margin_so_mode': 0,\n",
       " 'trade_allowed': True,\n",
       " 'trade_expert': True,\n",
       " 'margin_mode': 2,\n",
       " 'currency_digits': 2,\n",
       " 'fifo_close': False,\n",
       " 'balance': 10000.0,\n",
       " 'credit': 0.0,\n",
       " 'profit': 0.0,\n",
       " 'equity': 10000.0,\n",
       " 'margin': 0.0,\n",
       " 'margin_free': 10000.0,\n",
       " 'margin_level': 0.0,\n",
       " 'margin_so_call': 100.0,\n",
       " 'margin_so_so': 0.0,\n",
       " 'margin_initial': 0.0,\n",
       " 'margin_maintenance': 0.0,\n",
       " 'assets': 0.0,\n",
       " 'liabilities': 0.0,\n",
       " 'commission_blocked': 0.0,\n",
       " 'name': 'Ronald Javier Vezga Rueda',\n",
       " 'server': 'ICMarketsSC-Demo',\n",
       " 'currency': 'USD',\n",
       " 'company': 'Raw Trading Ltd'}"
      ]
     },
     "execution_count": 33,
     "metadata": {},
     "output_type": "execute_result"
    }
   ],
   "source": [
    "mt5.account_info()._asdict()"
   ]
  },
  {
   "cell_type": "code",
   "execution_count": 34,
   "id": "fadb196c",
   "metadata": {},
   "outputs": [
    {
     "data": {
      "text/plain": [
       "{'custom': False,\n",
       " 'chart_mode': 0,\n",
       " 'select': True,\n",
       " 'visible': True,\n",
       " 'session_deals': 0,\n",
       " 'session_buy_orders': 0,\n",
       " 'session_sell_orders': 0,\n",
       " 'volume': 0,\n",
       " 'volumehigh': 0,\n",
       " 'volumelow': 0,\n",
       " 'time': 1745605393,\n",
       " 'digits': 5,\n",
       " 'spread': 2,\n",
       " 'spread_float': True,\n",
       " 'ticks_bookdepth': 10,\n",
       " 'trade_calc_mode': 0,\n",
       " 'trade_mode': 4,\n",
       " 'start_time': 0,\n",
       " 'expiration_time': 0,\n",
       " 'trade_stops_level': 0,\n",
       " 'trade_freeze_level': 0,\n",
       " 'trade_exemode': 2,\n",
       " 'swap_mode': 1,\n",
       " 'swap_rollover3days': 3,\n",
       " 'margin_hedged_use_leg': False,\n",
       " 'expiration_mode': 15,\n",
       " 'filling_mode': 2,\n",
       " 'order_mode': 127,\n",
       " 'order_gtc_mode': 0,\n",
       " 'option_mode': 0,\n",
       " 'option_right': 0,\n",
       " 'bid': 1.13628,\n",
       " 'bidhigh': 1.13914,\n",
       " 'bidlow': 1.1316,\n",
       " 'ask': 1.1363,\n",
       " 'askhigh': 1.13975,\n",
       " 'asklow': 1.1316,\n",
       " 'last': 0.0,\n",
       " 'lasthigh': 0.0,\n",
       " 'lastlow': 0.0,\n",
       " 'volume_real': 0.0,\n",
       " 'volumehigh_real': 0.0,\n",
       " 'volumelow_real': 0.0,\n",
       " 'option_strike': 0.0,\n",
       " 'point': 1e-05,\n",
       " 'trade_tick_value': 1.0,\n",
       " 'trade_tick_value_profit': 1.0,\n",
       " 'trade_tick_value_loss': 1.0,\n",
       " 'trade_tick_size': 1e-05,\n",
       " 'trade_contract_size': 100000.0,\n",
       " 'trade_accrued_interest': 0.0,\n",
       " 'trade_face_value': 0.0,\n",
       " 'trade_liquidity_rate': 0.0,\n",
       " 'volume_min': 0.01,\n",
       " 'volume_max': 200.0,\n",
       " 'volume_step': 0.01,\n",
       " 'volume_limit': 0.0,\n",
       " 'swap_long': -8.569,\n",
       " 'swap_short': 4.081,\n",
       " 'margin_initial': 100000.0,\n",
       " 'margin_maintenance': 0.0,\n",
       " 'session_volume': 0.0,\n",
       " 'session_turnover': 0.0,\n",
       " 'session_interest': 0.0,\n",
       " 'session_buy_orders_volume': 0.0,\n",
       " 'session_sell_orders_volume': 0.0,\n",
       " 'session_open': 1.13852,\n",
       " 'session_close': 1.13888,\n",
       " 'session_aw': 0.0,\n",
       " 'session_price_settlement': 0.0,\n",
       " 'session_price_limit_min': 0.0,\n",
       " 'session_price_limit_max': 0.0,\n",
       " 'margin_hedged': 0.0,\n",
       " 'price_change': -0.2283,\n",
       " 'price_volatility': 0.0,\n",
       " 'price_theoretical': 0.0,\n",
       " 'price_greeks_delta': 0.0,\n",
       " 'price_greeks_theta': 0.0,\n",
       " 'price_greeks_gamma': 0.0,\n",
       " 'price_greeks_vega': 0.0,\n",
       " 'price_greeks_rho': 0.0,\n",
       " 'price_greeks_omega': 0.0,\n",
       " 'price_sensitivity': 0.0,\n",
       " 'basis': '',\n",
       " 'category': '',\n",
       " 'currency_base': 'EUR',\n",
       " 'currency_profit': 'USD',\n",
       " 'currency_margin': 'EUR',\n",
       " 'bank': '',\n",
       " 'description': 'Euro vs US Dollar',\n",
       " 'exchange': '',\n",
       " 'formula': '',\n",
       " 'isin': '',\n",
       " 'name': 'EURUSD',\n",
       " 'page': '',\n",
       " 'path': 'Forex\\\\Majors\\\\EURUSD'}"
      ]
     },
     "execution_count": 34,
     "metadata": {},
     "output_type": "execute_result"
    }
   ],
   "source": [
    "mt5.symbol_info(\"EURUSD\")._asdict()"
   ]
  },
  {
   "cell_type": "code",
   "execution_count": 35,
   "id": "36c998dc",
   "metadata": {},
   "outputs": [
    {
     "data": {
      "text/plain": [
       "()"
      ]
     },
     "execution_count": 35,
     "metadata": {},
     "output_type": "execute_result"
    }
   ],
   "source": [
    "mt5.positions_get()"
   ]
  },
  {
   "cell_type": "markdown",
   "id": "950ea335",
   "metadata": {},
   "source": [
    "## Research metodo Order_Send()"
   ]
  },
  {
   "cell_type": "code",
   "execution_count": 45,
   "id": "e5befac5",
   "metadata": {},
   "outputs": [],
   "source": [
    "market_order_request = {\n",
    "    \"action\": mt5.TRADE_ACTION_DEAL,\n",
    "    \"symbol\": \"EURUSD\",\n",
    "    \"volume\": 0.10,\n",
    "    \"sl\": 0.0,\n",
    "    \"tp\": 0.0,\n",
    "    \"type\": mt5.ORDER_TYPE_BUY,\n",
    "    \"deviation\": 0,\n",
    "    \"magic\": 1258,\n",
    "    \"comment\": \"FWK Market Order\",\n",
    "    \"type_filling\": mt5.ORDER_FILLING_IOC,\n",
    "    \"price\": mt5.symbol_info(\"EURUSD\").bid\n",
    "    }"
   ]
  },
  {
   "cell_type": "code",
   "execution_count": 46,
   "id": "5f6286e0",
   "metadata": {},
   "outputs": [],
   "source": [
    "result = mt5.order_send(market_order_request)"
   ]
  },
  {
   "cell_type": "code",
   "execution_count": 47,
   "id": "fc914a48",
   "metadata": {},
   "outputs": [
    {
     "data": {
      "text/plain": [
       "{'retcode': 10009,\n",
       " 'deal': 826520625,\n",
       " 'order': 1024179120,\n",
       " 'volume': 0.1,\n",
       " 'price': 1.1373,\n",
       " 'bid': 1.1373,\n",
       " 'ask': 1.1373,\n",
       " 'comment': 'Request executed',\n",
       " 'request_id': 1710381260,\n",
       " 'retcode_external': 0,\n",
       " 'request': TradeRequest(action=1, magic=1258, order=0, symbol='EURUSD', volume=0.1, price=1.13725, stoplimit=0.0, sl=0.0, tp=0.0, deviation=0, type=0, type_filling=1, type_time=0, expiration=0, comment='FWK Market Order', position=0, position_by=0)}"
      ]
     },
     "execution_count": 47,
     "metadata": {},
     "output_type": "execute_result"
    }
   ],
   "source": [
    "result._asdict()"
   ]
  },
  {
   "cell_type": "code",
   "execution_count": 59,
   "id": "1cc43019",
   "metadata": {},
   "outputs": [],
   "source": [
    "pending_order_request = {\n",
    "        \"action\": mt5.TRADE_ACTION_PENDING,\n",
    "        \"symbol\": \"EURUSD\",\n",
    "        \"volume\": 0.10,\n",
    "        \"sl\": 0.0,  \n",
    "        \"tp\": 0.0,\n",
    "        \"type\": mt5.ORDER_TYPE_BUY_LIMIT,\n",
    "        \"deviation\": 0,\n",
    "        \"magic\": 1258,\n",
    "        \"comment\": \"FWK Pending Order\",\n",
    "        \"type_filling\": mt5.ORDER_FILLING_IOC,\n",
    "        \"price\": 1.136, \n",
    "        \"type_time\": mt5.ORDER_TIME_GTC,\n",
    "    }"
   ]
  },
  {
   "cell_type": "code",
   "execution_count": 60,
   "id": "b58f55fb",
   "metadata": {},
   "outputs": [],
   "source": [
    "pending_result = mt5.order_send(pending_order_request)"
   ]
  },
  {
   "cell_type": "code",
   "execution_count": 61,
   "id": "6f6ec285",
   "metadata": {},
   "outputs": [
    {
     "data": {
      "text/plain": [
       "{'retcode': 10009,\n",
       " 'deal': 0,\n",
       " 'order': 1024241328,\n",
       " 'volume': 0.1,\n",
       " 'price': 0.0,\n",
       " 'bid': 0.0,\n",
       " 'ask': 0.0,\n",
       " 'comment': 'Request executed',\n",
       " 'request_id': 1710381262,\n",
       " 'retcode_external': 0,\n",
       " 'request': TradeRequest(action=5, magic=1258, order=0, symbol='EURUSD', volume=0.1, price=1.136, stoplimit=0.0, sl=0.0, tp=0.0, deviation=0, type=2, type_filling=1, type_time=0, expiration=0, comment='FWK Pending Order', position=0, position_by=0)}"
      ]
     },
     "execution_count": 61,
     "metadata": {},
     "output_type": "execute_result"
    }
   ],
   "source": [
    "pending_result._asdict()"
   ]
  },
  {
   "cell_type": "code",
   "execution_count": 68,
   "id": "73761455",
   "metadata": {},
   "outputs": [],
   "source": [
    "pending_order = mt5.orders_get(ticket=pending_result.order)[0]"
   ]
  },
  {
   "cell_type": "code",
   "execution_count": 69,
   "id": "0faba029",
   "metadata": {},
   "outputs": [
    {
     "data": {
      "text/plain": [
       "TradeOrder(ticket=1024241328, time_setup=1745607820, time_setup_msc=1745607820495, time_done=0, time_done_msc=0, time_expiration=0, type=2, type_time=0, type_filling=2, state=1, magic=1258, position_id=0, position_by_id=0, reason=3, volume_initial=0.1, volume_current=0.1, price_open=1.1360000000000001, sl=0.0, tp=0.0, price_current=1.13818, price_stoplimit=0.0, symbol='EURUSD', comment='FWK Pending Orde', external_id='')"
      ]
     },
     "execution_count": 69,
     "metadata": {},
     "output_type": "execute_result"
    }
   ],
   "source": [
    "pending_order"
   ]
  },
  {
   "cell_type": "code",
   "execution_count": 70,
   "id": "32fcc624",
   "metadata": {},
   "outputs": [],
   "source": [
    "cancel_request = {\n",
    "    \"action\": mt5.TRADE_ACTION_REMOVE,\n",
    "    \"order\": pending_order.ticket,\n",
    "    \"symbol\": pending_order.symbol,\n",
    "    \"comment\": \"FWK Cancel Pending Order\",\n",
    "}"
   ]
  },
  {
   "cell_type": "code",
   "execution_count": 71,
   "id": "aff28188",
   "metadata": {},
   "outputs": [],
   "source": [
    "cancel_result = mt5.order_send(cancel_request)"
   ]
  },
  {
   "cell_type": "code",
   "execution_count": 72,
   "id": "bde952e6",
   "metadata": {},
   "outputs": [
    {
     "data": {
      "text/plain": [
       "{'retcode': 10009,\n",
       " 'deal': 0,\n",
       " 'order': 1024241328,\n",
       " 'volume': 0.0,\n",
       " 'price': 0.0,\n",
       " 'bid': 0.0,\n",
       " 'ask': 0.0,\n",
       " 'comment': 'Request executed',\n",
       " 'request_id': 1710381263,\n",
       " 'retcode_external': 0,\n",
       " 'request': TradeRequest(action=8, magic=0, order=1024241328, symbol='EURUSD', volume=0.0, price=0.0, stoplimit=0.0, sl=0.0, tp=0.0, deviation=0, type=0, type_filling=0, type_time=0, expiration=0, comment='FWK Cancel Pending Order', position=0, position_by=0)}"
      ]
     },
     "execution_count": 72,
     "metadata": {},
     "output_type": "execute_result"
    }
   ],
   "source": [
    "cancel_result._asdict()"
   ]
  },
  {
   "cell_type": "code",
   "execution_count": 51,
   "id": "323e5663",
   "metadata": {},
   "outputs": [],
   "source": [
    "position = mt5.positions_get(ticket=1024179120)[0]"
   ]
  },
  {
   "cell_type": "code",
   "execution_count": 54,
   "id": "1797e436",
   "metadata": {},
   "outputs": [
    {
     "data": {
      "text/plain": [
       "{'ticket': 1024179120,\n",
       " 'time': 1745606434,\n",
       " 'time_msc': 1745606434796,\n",
       " 'time_update': 1745606434,\n",
       " 'time_update_msc': 1745606434796,\n",
       " 'type': 0,\n",
       " 'magic': 1258,\n",
       " 'identifier': 1024179120,\n",
       " 'reason': 3,\n",
       " 'volume': 0.1,\n",
       " 'price_open': 1.1373,\n",
       " 'sl': 0.0,\n",
       " 'tp': 0.0,\n",
       " 'price_current': 1.13719,\n",
       " 'swap': 0.0,\n",
       " 'profit': -1.1,\n",
       " 'symbol': 'EURUSD',\n",
       " 'comment': 'FWK Market Order',\n",
       " 'external_id': ''}"
      ]
     },
     "execution_count": 54,
     "metadata": {},
     "output_type": "execute_result"
    }
   ],
   "source": [
    "position._asdict()"
   ]
  },
  {
   "cell_type": "code",
   "execution_count": 53,
   "id": "155ed055",
   "metadata": {},
   "outputs": [
    {
     "data": {
      "text/plain": [
       "(TradePosition(ticket=1024179120, time=1745606434, time_msc=1745606434796, time_update=1745606434, time_update_msc=1745606434796, type=0, magic=1258, identifier=1024179120, reason=3, volume=0.1, price_open=1.1373, sl=0.0, tp=0.0, price_current=1.13725, swap=0.0, profit=-0.5, symbol='EURUSD', comment='FWK Market Order', external_id=''),)"
      ]
     },
     "execution_count": 53,
     "metadata": {},
     "output_type": "execute_result"
    }
   ],
   "source": [
    "mt5.positions_get()"
   ]
  },
  {
   "cell_type": "code",
   "execution_count": 55,
   "id": "3a45dd00",
   "metadata": {},
   "outputs": [],
   "source": [
    "close_request = {\n",
    "            \"action\": mt5.TRADE_ACTION_DEAL,\n",
    "            \"position\": position.ticket,\n",
    "            \"symbol\": position.symbol,\n",
    "            \"volume\": position.volume,\n",
    "            \"type\": mt5.ORDER_TYPE_BUY if position.type == mt5.ORDER_TYPE_SELL else mt5.ORDER_TYPE_SELL,\n",
    "            \"comment\": \"FWK Close Position\",\n",
    "            \"type_filling\": mt5.ORDER_FILLING_IOC\n",
    "        }"
   ]
  },
  {
   "cell_type": "code",
   "execution_count": 56,
   "id": "7931cc52",
   "metadata": {},
   "outputs": [
    {
     "data": {
      "text/plain": [
       "{'action': 1,\n",
       " 'position': 1024179120,\n",
       " 'symbol': 'EURUSD',\n",
       " 'volume': 0.1,\n",
       " 'type': 1,\n",
       " 'comment': 'FWK Close Position',\n",
       " 'type_filling': 1}"
      ]
     },
     "execution_count": 56,
     "metadata": {},
     "output_type": "execute_result"
    }
   ],
   "source": [
    "close_request"
   ]
  },
  {
   "cell_type": "code",
   "execution_count": 57,
   "id": "c634f359",
   "metadata": {},
   "outputs": [],
   "source": [
    "result = mt5.order_send(close_request)"
   ]
  },
  {
   "cell_type": "code",
   "execution_count": 58,
   "id": "21b58a75",
   "metadata": {},
   "outputs": [
    {
     "data": {
      "text/plain": [
       "{'retcode': 10009,\n",
       " 'deal': 826545022,\n",
       " 'order': 1024204316,\n",
       " 'volume': 0.1,\n",
       " 'price': 1.13803,\n",
       " 'bid': 1.13803,\n",
       " 'ask': 1.13805,\n",
       " 'comment': 'Request executed',\n",
       " 'request_id': 1710381261,\n",
       " 'retcode_external': 0,\n",
       " 'request': TradeRequest(action=1, magic=0, order=0, symbol='EURUSD', volume=0.1, price=0.0, stoplimit=0.0, sl=0.0, tp=0.0, deviation=0, type=1, type_filling=1, type_time=0, expiration=0, comment='FWK Close Position', position=1024179120, position_by=0)}"
      ]
     },
     "execution_count": 58,
     "metadata": {},
     "output_type": "execute_result"
    }
   ],
   "source": [
    "result._asdict()"
   ]
  }
 ],
 "metadata": {
  "kernelspec": {
   "display_name": "TradingFramework",
   "language": "python",
   "name": "python3"
  },
  "language_info": {
   "codemirror_mode": {
    "name": "ipython",
    "version": 3
   },
   "file_extension": ".py",
   "mimetype": "text/x-python",
   "name": "python",
   "nbconvert_exporter": "python",
   "pygments_lexer": "ipython3",
   "version": "3.11.11"
  }
 },
 "nbformat": 4,
 "nbformat_minor": 5
}
