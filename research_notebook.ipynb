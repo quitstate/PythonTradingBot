{
 "cells": [
  {
   "cell_type": "code",
   "execution_count": 2,
   "id": "c8e2f541",
   "metadata": {},
   "outputs": [
    {
     "data": {
      "text/plain": [
       "True"
      ]
     },
     "execution_count": 2,
     "metadata": {},
     "output_type": "execute_result"
    }
   ],
   "source": [
    "import MetaTrader5 as mt5\n",
    "import pandas as pd\n",
    "import os\n",
    "from dotenv import load_dotenv, find_dotenv\n",
    "\n",
    "load_dotenv(find_dotenv())"
   ]
  },
  {
   "cell_type": "code",
   "execution_count": 3,
   "id": "4522a58b",
   "metadata": {},
   "outputs": [
    {
     "data": {
      "text/plain": [
       "True"
      ]
     },
     "execution_count": 3,
     "metadata": {},
     "output_type": "execute_result"
    }
   ],
   "source": [
    "mt5.initialize(\n",
    "            path=os.getenv(\"MT5_PATH\"),\n",
    "            login=int(os.getenv(\"MT5_LOGIN\")),\n",
    "            password=os.getenv(\"MT5_PASSWORD\"),\n",
    "            server=os.getenv(\"MT5_SERVER\"),\n",
    "            timeout=int(os.getenv(\"MT5_TIMEOUT\")),\n",
    "            portable=eval(os.getenv(\"MT5_PORTABLE\")),\n",
    "        )"
   ]
  },
  {
   "cell_type": "code",
   "execution_count": 4,
   "id": "a632e5de",
   "metadata": {},
   "outputs": [
    {
     "data": {
      "text/html": [
       "<div>\n",
       "<style scoped>\n",
       "    .dataframe tbody tr th:only-of-type {\n",
       "        vertical-align: middle;\n",
       "    }\n",
       "\n",
       "    .dataframe tbody tr th {\n",
       "        vertical-align: top;\n",
       "    }\n",
       "\n",
       "    .dataframe thead th {\n",
       "        text-align: right;\n",
       "    }\n",
       "</style>\n",
       "<table border=\"1\" class=\"dataframe\">\n",
       "  <thead>\n",
       "    <tr style=\"text-align: right;\">\n",
       "      <th></th>\n",
       "      <th>open</th>\n",
       "      <th>high</th>\n",
       "      <th>low</th>\n",
       "      <th>close</th>\n",
       "      <th>tickvol</th>\n",
       "      <th>vol</th>\n",
       "      <th>spread</th>\n",
       "    </tr>\n",
       "    <tr>\n",
       "      <th>time</th>\n",
       "      <th></th>\n",
       "      <th></th>\n",
       "      <th></th>\n",
       "      <th></th>\n",
       "      <th></th>\n",
       "      <th></th>\n",
       "      <th></th>\n",
       "    </tr>\n",
       "  </thead>\n",
       "  <tbody>\n",
       "    <tr>\n",
       "      <th>2025-04-07 22:00:00</th>\n",
       "      <td>1.09337</td>\n",
       "      <td>1.09482</td>\n",
       "      <td>1.09135</td>\n",
       "      <td>1.09161</td>\n",
       "      <td>5094</td>\n",
       "      <td>0</td>\n",
       "      <td>0</td>\n",
       "    </tr>\n",
       "    <tr>\n",
       "      <th>2025-04-07 23:00:00</th>\n",
       "      <td>1.09161</td>\n",
       "      <td>1.09197</td>\n",
       "      <td>1.09019</td>\n",
       "      <td>1.09053</td>\n",
       "      <td>2765</td>\n",
       "      <td>0</td>\n",
       "      <td>0</td>\n",
       "    </tr>\n",
       "    <tr>\n",
       "      <th>2025-04-08 00:00:00</th>\n",
       "      <td>1.09066</td>\n",
       "      <td>1.09114</td>\n",
       "      <td>1.09013</td>\n",
       "      <td>1.09111</td>\n",
       "      <td>110</td>\n",
       "      <td>0</td>\n",
       "      <td>21</td>\n",
       "    </tr>\n",
       "    <tr>\n",
       "      <th>2025-04-08 01:00:00</th>\n",
       "      <td>1.09119</td>\n",
       "      <td>1.09206</td>\n",
       "      <td>1.09083</td>\n",
       "      <td>1.09169</td>\n",
       "      <td>1005</td>\n",
       "      <td>0</td>\n",
       "      <td>0</td>\n",
       "    </tr>\n",
       "    <tr>\n",
       "      <th>2025-04-08 02:00:00</th>\n",
       "      <td>1.09168</td>\n",
       "      <td>1.09189</td>\n",
       "      <td>1.09078</td>\n",
       "      <td>1.09148</td>\n",
       "      <td>2213</td>\n",
       "      <td>0</td>\n",
       "      <td>0</td>\n",
       "    </tr>\n",
       "  </tbody>\n",
       "</table>\n",
       "</div>"
      ],
      "text/plain": [
       "                        open     high      low    close  tickvol  vol  spread\n",
       "time                                                                         \n",
       "2025-04-07 22:00:00  1.09337  1.09482  1.09135  1.09161     5094    0       0\n",
       "2025-04-07 23:00:00  1.09161  1.09197  1.09019  1.09053     2765    0       0\n",
       "2025-04-08 00:00:00  1.09066  1.09114  1.09013  1.09111      110    0      21\n",
       "2025-04-08 01:00:00  1.09119  1.09206  1.09083  1.09169     1005    0       0\n",
       "2025-04-08 02:00:00  1.09168  1.09189  1.09078  1.09148     2213    0       0"
      ]
     },
     "execution_count": 4,
     "metadata": {},
     "output_type": "execute_result"
    }
   ],
   "source": [
    "bars = pd.DataFrame(mt5.copy_rates_from_pos(\n",
    "    \"EURUSD\",\n",
    "    mt5.TIMEFRAME_H1,\n",
    "    1,\n",
    "    50,\n",
    "))\n",
    "\n",
    "bars['time'] = pd.to_datetime(bars['time'], unit='s')\n",
    "bars.set_index('time', inplace=True)\n",
    "bars.rename(columns={\n",
    "    'tick_volume': 'tickvol',\n",
    "    'real_volume': 'vol'\n",
    "}, inplace=True)\n",
    "bars = bars[['open', 'high', 'low', 'close', 'tickvol', 'vol', 'spread']]\n",
    "bars.head()"
   ]
  },
  {
   "cell_type": "code",
   "execution_count": 5,
   "id": "988cee17",
   "metadata": {},
   "outputs": [
    {
     "data": {
      "text/plain": [
       "pandas.core.series.Series"
      ]
     },
     "execution_count": 5,
     "metadata": {},
     "output_type": "execute_result"
    }
   ],
   "source": [
    "type(bars.iloc[-1])"
   ]
  },
  {
   "cell_type": "code",
   "execution_count": 6,
   "id": "a28c485a",
   "metadata": {},
   "outputs": [
    {
     "data": {
      "text/plain": [
       "{'time': 1744327936,\n",
       " 'bid': 1.11886,\n",
       " 'ask': 1.11889,\n",
       " 'last': 0.0,\n",
       " 'volume': 0,\n",
       " 'time_msc': 1744327936443,\n",
       " 'flags': 6,\n",
       " 'volume_real': 0.0}"
      ]
     },
     "execution_count": 6,
     "metadata": {},
     "output_type": "execute_result"
    }
   ],
   "source": [
    "tick = mt5.symbol_info_tick(\"EURUSD\")._asdict()\n",
    "tick"
   ]
  },
  {
   "cell_type": "code",
   "execution_count": 7,
   "id": "ede0b548",
   "metadata": {},
   "outputs": [],
   "source": [
    "def get_latest_tick(symbol: str) -> dict:\n",
    "    \"\"\"Get the latest tick for a given symbol.\n",
    "    Args:\n",
    "        symbol (str): The symbol to fetch data for.\n",
    "    Returns:\n",
    "        dict: The latest tick data.\n",
    "    Raises:\n",
    "        ValueError: If the symbol is invalid.\n",
    "        RuntimeError: If there is an error fetching data from MT5.\n",
    "    \"\"\"\n",
    "    try:\n",
    "        tick = mt5.symbol_info_tick(symbol)\n",
    "        if tick is None:\n",
    "            raise ValueError(f\"No tick data received for symbol: {symbol}.\")\n",
    "\n",
    "    except Exception as e:\n",
    "        raise RuntimeError(\n",
    "            f\"Error fetching tick data for symbol: {symbol}. \"\n",
    "            f\"MT5 Error: {mt5.last_error()} \"\n",
    "            f\"Exception: {str(e)}\"\n",
    "        )\n",
    "\n",
    "    else:\n",
    "        return tick._asdict()  # Convert the tick object to a dictionary"
   ]
  },
  {
   "cell_type": "code",
   "execution_count": 8,
   "id": "149df4ca",
   "metadata": {},
   "outputs": [
    {
     "data": {
      "text/plain": [
       "{'time': 1744327936,\n",
       " 'bid': 1.11886,\n",
       " 'ask': 1.11889,\n",
       " 'last': 0.0,\n",
       " 'volume': 0,\n",
       " 'time_msc': 1744327936443,\n",
       " 'flags': 6,\n",
       " 'volume_real': 0.0}"
      ]
     },
     "execution_count": 8,
     "metadata": {},
     "output_type": "execute_result"
    }
   ],
   "source": [
    "get_latest_tick(\"EURUSD\")"
   ]
  },
  {
   "cell_type": "code",
   "execution_count": 9,
   "id": "c08ac1e7",
   "metadata": {},
   "outputs": [
    {
     "data": {
      "text/plain": [
       "0.01"
      ]
     },
     "execution_count": 9,
     "metadata": {},
     "output_type": "execute_result"
    }
   ],
   "source": [
    "mt5.symbol_info(\"EURUSD\").volume_min"
   ]
  },
  {
   "cell_type": "code",
   "execution_count": 10,
   "id": "36245d0d",
   "metadata": {},
   "outputs": [
    {
     "data": {
      "text/plain": [
       "{'custom': False,\n",
       " 'chart_mode': 0,\n",
       " 'select': True,\n",
       " 'visible': True,\n",
       " 'session_deals': 0,\n",
       " 'session_buy_orders': 0,\n",
       " 'session_sell_orders': 0,\n",
       " 'volume': 0,\n",
       " 'volumehigh': 0,\n",
       " 'volumelow': 0,\n",
       " 'time': 1744327936,\n",
       " 'digits': 5,\n",
       " 'spread': 3,\n",
       " 'spread_float': True,\n",
       " 'ticks_bookdepth': 10,\n",
       " 'trade_calc_mode': 0,\n",
       " 'trade_mode': 4,\n",
       " 'start_time': 0,\n",
       " 'expiration_time': 0,\n",
       " 'trade_stops_level': 0,\n",
       " 'trade_freeze_level': 0,\n",
       " 'trade_exemode': 2,\n",
       " 'swap_mode': 1,\n",
       " 'swap_rollover3days': 3,\n",
       " 'margin_hedged_use_leg': False,\n",
       " 'expiration_mode': 15,\n",
       " 'filling_mode': 2,\n",
       " 'order_mode': 127,\n",
       " 'order_gtc_mode': 0,\n",
       " 'option_mode': 0,\n",
       " 'option_right': 0,\n",
       " 'bid': 1.11886,\n",
       " 'bidhigh': 1.12416,\n",
       " 'bidlow': 1.09429,\n",
       " 'ask': 1.11889,\n",
       " 'askhigh': 1.12418,\n",
       " 'asklow': 1.0943100000000001,\n",
       " 'last': 0.0,\n",
       " 'lasthigh': 0.0,\n",
       " 'lastlow': 0.0,\n",
       " 'volume_real': 0.0,\n",
       " 'volumehigh_real': 0.0,\n",
       " 'volumelow_real': 0.0,\n",
       " 'option_strike': 0.0,\n",
       " 'point': 1e-05,\n",
       " 'trade_tick_value': 1.0,\n",
       " 'trade_tick_value_profit': 1.0,\n",
       " 'trade_tick_value_loss': 1.0,\n",
       " 'trade_tick_size': 1e-05,\n",
       " 'trade_contract_size': 100000.0,\n",
       " 'trade_accrued_interest': 0.0,\n",
       " 'trade_face_value': 0.0,\n",
       " 'trade_liquidity_rate': 0.0,\n",
       " 'volume_min': 0.01,\n",
       " 'volume_max': 200.0,\n",
       " 'volume_step': 0.01,\n",
       " 'volume_limit': 0.0,\n",
       " 'swap_long': -7.425,\n",
       " 'swap_short': 3.381,\n",
       " 'margin_initial': 100000.0,\n",
       " 'margin_maintenance': 0.0,\n",
       " 'session_volume': 0.0,\n",
       " 'session_turnover': 0.0,\n",
       " 'session_interest': 0.0,\n",
       " 'session_buy_orders_volume': 0.0,\n",
       " 'session_sell_orders_volume': 0.0,\n",
       " 'session_open': 1.09483,\n",
       " 'session_close': 1.09474,\n",
       " 'session_aw': 0.0,\n",
       " 'session_price_settlement': 0.0,\n",
       " 'session_price_limit_min': 0.0,\n",
       " 'session_price_limit_max': 0.0,\n",
       " 'margin_hedged': 0.0,\n",
       " 'price_change': 2.2033,\n",
       " 'price_volatility': 0.0,\n",
       " 'price_theoretical': 0.0,\n",
       " 'price_greeks_delta': 0.0,\n",
       " 'price_greeks_theta': 0.0,\n",
       " 'price_greeks_gamma': 0.0,\n",
       " 'price_greeks_vega': 0.0,\n",
       " 'price_greeks_rho': 0.0,\n",
       " 'price_greeks_omega': 0.0,\n",
       " 'price_sensitivity': 0.0,\n",
       " 'basis': '',\n",
       " 'category': '',\n",
       " 'currency_base': 'EUR',\n",
       " 'currency_profit': 'USD',\n",
       " 'currency_margin': 'EUR',\n",
       " 'bank': '',\n",
       " 'description': 'Euro vs US Dollar',\n",
       " 'exchange': '',\n",
       " 'formula': '',\n",
       " 'isin': '',\n",
       " 'name': 'EURUSD',\n",
       " 'page': '',\n",
       " 'path': 'Forex\\\\Majors\\\\EURUSD'}"
      ]
     },
     "execution_count": 10,
     "metadata": {},
     "output_type": "execute_result"
    }
   ],
   "source": [
    "mt5.symbol_info(\"EURUSD\")._asdict()"
   ]
  },
  {
   "cell_type": "code",
   "execution_count": 11,
   "id": "d0c52f87",
   "metadata": {},
   "outputs": [
    {
     "data": {
      "text/plain": [
       "{'login': 52247953,\n",
       " 'trade_mode': 0,\n",
       " 'leverage': 50,\n",
       " 'limit_orders': 200,\n",
       " 'margin_so_mode': 0,\n",
       " 'trade_allowed': True,\n",
       " 'trade_expert': True,\n",
       " 'margin_mode': 2,\n",
       " 'currency_digits': 2,\n",
       " 'fifo_close': False,\n",
       " 'balance': 10000.0,\n",
       " 'credit': 0.0,\n",
       " 'profit': 0.0,\n",
       " 'equity': 10000.0,\n",
       " 'margin': 0.0,\n",
       " 'margin_free': 10000.0,\n",
       " 'margin_level': 0.0,\n",
       " 'margin_so_call': 100.0,\n",
       " 'margin_so_so': 0.0,\n",
       " 'margin_initial': 0.0,\n",
       " 'margin_maintenance': 0.0,\n",
       " 'assets': 0.0,\n",
       " 'liabilities': 0.0,\n",
       " 'commission_blocked': 0.0,\n",
       " 'name': 'Ronald Javier Vezga Rueda',\n",
       " 'server': 'ICMarketsSC-Demo',\n",
       " 'currency': 'USD',\n",
       " 'company': 'Raw Trading Ltd'}"
      ]
     },
     "execution_count": 11,
     "metadata": {},
     "output_type": "execute_result"
    }
   ],
   "source": [
    "mt5.account_info()._asdict()"
   ]
  },
  {
   "cell_type": "code",
   "execution_count": 12,
   "id": "fadb196c",
   "metadata": {},
   "outputs": [
    {
     "data": {
      "text/plain": [
       "{'custom': False,\n",
       " 'chart_mode': 0,\n",
       " 'select': True,\n",
       " 'visible': True,\n",
       " 'session_deals': 0,\n",
       " 'session_buy_orders': 0,\n",
       " 'session_sell_orders': 0,\n",
       " 'volume': 0,\n",
       " 'volumehigh': 0,\n",
       " 'volumelow': 0,\n",
       " 'time': 1744327936,\n",
       " 'digits': 5,\n",
       " 'spread': 3,\n",
       " 'spread_float': True,\n",
       " 'ticks_bookdepth': 10,\n",
       " 'trade_calc_mode': 0,\n",
       " 'trade_mode': 4,\n",
       " 'start_time': 0,\n",
       " 'expiration_time': 0,\n",
       " 'trade_stops_level': 0,\n",
       " 'trade_freeze_level': 0,\n",
       " 'trade_exemode': 2,\n",
       " 'swap_mode': 1,\n",
       " 'swap_rollover3days': 3,\n",
       " 'margin_hedged_use_leg': False,\n",
       " 'expiration_mode': 15,\n",
       " 'filling_mode': 2,\n",
       " 'order_mode': 127,\n",
       " 'order_gtc_mode': 0,\n",
       " 'option_mode': 0,\n",
       " 'option_right': 0,\n",
       " 'bid': 1.11886,\n",
       " 'bidhigh': 1.12416,\n",
       " 'bidlow': 1.09429,\n",
       " 'ask': 1.11889,\n",
       " 'askhigh': 1.12418,\n",
       " 'asklow': 1.0943100000000001,\n",
       " 'last': 0.0,\n",
       " 'lasthigh': 0.0,\n",
       " 'lastlow': 0.0,\n",
       " 'volume_real': 0.0,\n",
       " 'volumehigh_real': 0.0,\n",
       " 'volumelow_real': 0.0,\n",
       " 'option_strike': 0.0,\n",
       " 'point': 1e-05,\n",
       " 'trade_tick_value': 1.0,\n",
       " 'trade_tick_value_profit': 1.0,\n",
       " 'trade_tick_value_loss': 1.0,\n",
       " 'trade_tick_size': 1e-05,\n",
       " 'trade_contract_size': 100000.0,\n",
       " 'trade_accrued_interest': 0.0,\n",
       " 'trade_face_value': 0.0,\n",
       " 'trade_liquidity_rate': 0.0,\n",
       " 'volume_min': 0.01,\n",
       " 'volume_max': 200.0,\n",
       " 'volume_step': 0.01,\n",
       " 'volume_limit': 0.0,\n",
       " 'swap_long': -7.425,\n",
       " 'swap_short': 3.381,\n",
       " 'margin_initial': 100000.0,\n",
       " 'margin_maintenance': 0.0,\n",
       " 'session_volume': 0.0,\n",
       " 'session_turnover': 0.0,\n",
       " 'session_interest': 0.0,\n",
       " 'session_buy_orders_volume': 0.0,\n",
       " 'session_sell_orders_volume': 0.0,\n",
       " 'session_open': 1.09483,\n",
       " 'session_close': 1.09474,\n",
       " 'session_aw': 0.0,\n",
       " 'session_price_settlement': 0.0,\n",
       " 'session_price_limit_min': 0.0,\n",
       " 'session_price_limit_max': 0.0,\n",
       " 'margin_hedged': 0.0,\n",
       " 'price_change': 2.2033,\n",
       " 'price_volatility': 0.0,\n",
       " 'price_theoretical': 0.0,\n",
       " 'price_greeks_delta': 0.0,\n",
       " 'price_greeks_theta': 0.0,\n",
       " 'price_greeks_gamma': 0.0,\n",
       " 'price_greeks_vega': 0.0,\n",
       " 'price_greeks_rho': 0.0,\n",
       " 'price_greeks_omega': 0.0,\n",
       " 'price_sensitivity': 0.0,\n",
       " 'basis': '',\n",
       " 'category': '',\n",
       " 'currency_base': 'EUR',\n",
       " 'currency_profit': 'USD',\n",
       " 'currency_margin': 'EUR',\n",
       " 'bank': '',\n",
       " 'description': 'Euro vs US Dollar',\n",
       " 'exchange': '',\n",
       " 'formula': '',\n",
       " 'isin': '',\n",
       " 'name': 'EURUSD',\n",
       " 'page': '',\n",
       " 'path': 'Forex\\\\Majors\\\\EURUSD'}"
      ]
     },
     "execution_count": 12,
     "metadata": {},
     "output_type": "execute_result"
    }
   ],
   "source": [
    "mt5.symbol_info(\"EURUSD\")._asdict()"
   ]
  }
 ],
 "metadata": {
  "kernelspec": {
   "display_name": "TradingFramework",
   "language": "python",
   "name": "python3"
  },
  "language_info": {
   "codemirror_mode": {
    "name": "ipython",
    "version": 3
   },
   "file_extension": ".py",
   "mimetype": "text/x-python",
   "name": "python",
   "nbconvert_exporter": "python",
   "pygments_lexer": "ipython3",
   "version": "3.11.11"
  }
 },
 "nbformat": 4,
 "nbformat_minor": 5
}
